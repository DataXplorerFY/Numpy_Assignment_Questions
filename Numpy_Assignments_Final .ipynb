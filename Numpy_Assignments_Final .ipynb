{
 "cells": [
  {
   "cell_type": "markdown",
   "id": "f08c5ab3",
   "metadata": {},
   "source": [
    "# Question 1\n"
   ]
  },
  {
   "cell_type": "code",
   "execution_count": 3,
   "id": "41dcd48e",
   "metadata": {},
   "outputs": [],
   "source": [
    "#converting 1d array to 2d"
   ]
  },
  {
   "cell_type": "code",
   "execution_count": 4,
   "id": "c5b29099",
   "metadata": {},
   "outputs": [],
   "source": [
    "import numpy as np"
   ]
  },
  {
   "cell_type": "code",
   "execution_count": 5,
   "id": "bcbbb78c",
   "metadata": {},
   "outputs": [],
   "source": [
    "arr1=np.arange(10)"
   ]
  },
  {
   "cell_type": "code",
   "execution_count": 6,
   "id": "7b1d4714",
   "metadata": {},
   "outputs": [
    {
     "data": {
      "text/plain": [
       "array([0, 1, 2, 3, 4, 5, 6, 7, 8, 9])"
      ]
     },
     "execution_count": 6,
     "metadata": {},
     "output_type": "execute_result"
    }
   ],
   "source": [
    "arr1"
   ]
  },
  {
   "cell_type": "code",
   "execution_count": 7,
   "id": "9af270f3",
   "metadata": {},
   "outputs": [
    {
     "data": {
      "text/plain": [
       "array([[0, 1, 2, 3, 4],\n",
       "       [5, 6, 7, 8, 9]])"
      ]
     },
     "execution_count": 7,
     "metadata": {},
     "output_type": "execute_result"
    }
   ],
   "source": [
    "arr1.reshape(2,5)"
   ]
  },
  {
   "cell_type": "markdown",
   "id": "9bacce32",
   "metadata": {},
   "source": [
    "# Question 2"
   ]
  },
  {
   "cell_type": "code",
   "execution_count": 6,
   "id": "48def5da",
   "metadata": {},
   "outputs": [],
   "source": [
    "#roblem  2\n",
    "\n",
    "#Extract all odd numbers from arr\n",
    "\n",
    "#arr = np.array([0, 1, 2, 3, 4, 5, 6, 7, 8, 9])\n"
   ]
  },
  {
   "cell_type": "code",
   "execution_count": 7,
   "id": "a4b4cdae",
   "metadata": {},
   "outputs": [],
   "source": [
    "arr=np.array([0,1,2,3,4,5,6,7,8,9])"
   ]
  },
  {
   "cell_type": "code",
   "execution_count": 8,
   "id": "2c7c410d",
   "metadata": {},
   "outputs": [],
   "source": [
    "odd_numbers=arr[arr%2==1]"
   ]
  },
  {
   "cell_type": "code",
   "execution_count": 9,
   "id": "9faa7755",
   "metadata": {},
   "outputs": [
    {
     "data": {
      "text/plain": [
       "array([1, 3, 5, 7, 9])"
      ]
     },
     "execution_count": 9,
     "metadata": {},
     "output_type": "execute_result"
    }
   ],
   "source": [
    "odd_numbers"
   ]
  },
  {
   "cell_type": "markdown",
   "id": "0e0e4f89",
   "metadata": {},
   "source": [
    "# Question 3\n"
   ]
  },
  {
   "cell_type": "code",
   "execution_count": 10,
   "id": "73372715",
   "metadata": {},
   "outputs": [
    {
     "data": {
      "text/plain": [
       "array([0, 1, 2, 3, 4, 5, 6, 7, 8, 9])"
      ]
     },
     "execution_count": 10,
     "metadata": {},
     "output_type": "execute_result"
    }
   ],
   "source": [
    "arr3=np.arange(10)\n",
    "arr3"
   ]
  },
  {
   "cell_type": "code",
   "execution_count": 11,
   "id": "594c62bc",
   "metadata": {},
   "outputs": [
    {
     "data": {
      "text/plain": [
       "-1"
      ]
     },
     "execution_count": 11,
     "metadata": {},
     "output_type": "execute_result"
    }
   ],
   "source": [
    "odd=arr3[arr3%2 ==1]=-1\n",
    "odd"
   ]
  },
  {
   "cell_type": "code",
   "execution_count": 12,
   "id": "d6dbb545",
   "metadata": {},
   "outputs": [
    {
     "data": {
      "text/plain": [
       "array([ 0, -1,  2, -1,  4, -1,  6, -1,  8, -1])"
      ]
     },
     "execution_count": 12,
     "metadata": {},
     "output_type": "execute_result"
    }
   ],
   "source": [
    "arr3"
   ]
  },
  {
   "cell_type": "markdown",
   "id": "cb50bb88",
   "metadata": {},
   "source": [
    "# Question 4"
   ]
  },
  {
   "cell_type": "code",
   "execution_count": 13,
   "id": "45af9e5d",
   "metadata": {},
   "outputs": [],
   "source": [
    "#Replace all odd numbers in arr with -1 without changing arr"
   ]
  },
  {
   "cell_type": "code",
   "execution_count": 14,
   "id": "2863db16",
   "metadata": {},
   "outputs": [
    {
     "data": {
      "text/plain": [
       "array([ 0, -1,  2, -1,  4, -1,  6, -1,  8, -1])"
      ]
     },
     "execution_count": 14,
     "metadata": {},
     "output_type": "execute_result"
    }
   ],
   "source": [
    "arr=np.array([0,1,2,3,4,5,6,7,8,9])\n",
    "\n",
    "arr[arr%2==1]= -1\n",
    "arr"
   ]
  },
  {
   "cell_type": "markdown",
   "id": "f6aef9fe",
   "metadata": {},
   "source": [
    "# Question 5"
   ]
  },
  {
   "cell_type": "code",
   "execution_count": 15,
   "id": "a66b7948",
   "metadata": {},
   "outputs": [],
   "source": [
    "#stack array A and B vertically"
   ]
  },
  {
   "cell_type": "code",
   "execution_count": 16,
   "id": "082e3835",
   "metadata": {},
   "outputs": [
    {
     "data": {
      "text/plain": [
       "array([[0, 1, 2, 3, 4],\n",
       "       [5, 6, 7, 8, 9]])"
      ]
     },
     "execution_count": 16,
     "metadata": {},
     "output_type": "execute_result"
    }
   ],
   "source": [
    "a=np.arange(10).reshape(2,-1)\n",
    "a"
   ]
  },
  {
   "cell_type": "code",
   "execution_count": 17,
   "id": "ec55810b",
   "metadata": {},
   "outputs": [
    {
     "data": {
      "text/plain": [
       "array([[1, 1, 1, 1, 1],\n",
       "       [1, 1, 1, 1, 1]])"
      ]
     },
     "execution_count": 17,
     "metadata": {},
     "output_type": "execute_result"
    }
   ],
   "source": [
    "b=np.repeat(1, 10).reshape(2, -1)\n",
    "b"
   ]
  },
  {
   "cell_type": "code",
   "execution_count": 18,
   "id": "1de24d40",
   "metadata": {},
   "outputs": [
    {
     "data": {
      "text/plain": [
       "array([[0, 1, 2, 3, 4],\n",
       "       [5, 6, 7, 8, 9],\n",
       "       [1, 1, 1, 1, 1],\n",
       "       [1, 1, 1, 1, 1]])"
      ]
     },
     "execution_count": 18,
     "metadata": {},
     "output_type": "execute_result"
    }
   ],
   "source": [
    "np.vstack((a,b))"
   ]
  },
  {
   "cell_type": "markdown",
   "id": "037bbf69",
   "metadata": {},
   "source": [
    "# Question 6\n"
   ]
  },
  {
   "cell_type": "code",
   "execution_count": 19,
   "id": "12c10507",
   "metadata": {},
   "outputs": [],
   "source": [
    "#Stack array A and B vertically"
   ]
  },
  {
   "cell_type": "code",
   "execution_count": 20,
   "id": "95abc80b",
   "metadata": {},
   "outputs": [],
   "source": [
    "a=np.arange(10).reshape(2, -1)\n",
    "b=np.repeat(1,10).reshape(2,-1)"
   ]
  },
  {
   "cell_type": "code",
   "execution_count": 21,
   "id": "e5828780",
   "metadata": {},
   "outputs": [
    {
     "data": {
      "text/plain": [
       "array([[0, 1, 2, 3, 4, 1, 1, 1, 1, 1],\n",
       "       [5, 6, 7, 8, 9, 1, 1, 1, 1, 1]])"
      ]
     },
     "execution_count": 21,
     "metadata": {},
     "output_type": "execute_result"
    }
   ],
   "source": [
    "np.hstack((a,b))"
   ]
  },
  {
   "cell_type": "markdown",
   "id": "57d44322",
   "metadata": {},
   "source": [
    "# Question 7"
   ]
  },
  {
   "cell_type": "code",
   "execution_count": 22,
   "id": "274f3c74",
   "metadata": {},
   "outputs": [],
   "source": [
    "#Create the following pattern without hardcoding. Use only numpy functions and the below input array a.\n"
   ]
  },
  {
   "cell_type": "code",
   "execution_count": 23,
   "id": "03fab08a",
   "metadata": {},
   "outputs": [],
   "source": [
    "a = np.array([1, 2, 3])"
   ]
  },
  {
   "cell_type": "code",
   "execution_count": 24,
   "id": "908b233a",
   "metadata": {},
   "outputs": [],
   "source": [
    "b=np.repeat(a,3)"
   ]
  },
  {
   "cell_type": "code",
   "execution_count": 29,
   "id": "f05253fe",
   "metadata": {},
   "outputs": [],
   "source": [
    "c=np.array([1,2,3])"
   ]
  },
  {
   "cell_type": "code",
   "execution_count": 30,
   "id": "a0952ecf",
   "metadata": {},
   "outputs": [],
   "source": [
    "d=np.tile(a,3)"
   ]
  },
  {
   "cell_type": "code",
   "execution_count": 33,
   "id": "fb9e898f",
   "metadata": {},
   "outputs": [],
   "source": [
    "e=np.hstack((b,d))"
   ]
  },
  {
   "cell_type": "code",
   "execution_count": 35,
   "id": "ccfd240b",
   "metadata": {},
   "outputs": [
    {
     "data": {
      "text/plain": [
       "array([1, 1, 1, 2, 2, 2, 3, 3, 3, 1, 2, 3, 1, 2, 3, 1, 2, 3])"
      ]
     },
     "execution_count": 35,
     "metadata": {},
     "output_type": "execute_result"
    }
   ],
   "source": [
    "e"
   ]
  },
  {
   "cell_type": "markdown",
   "id": "f195c448",
   "metadata": {},
   "source": [
    "# Question 8"
   ]
  },
  {
   "cell_type": "code",
   "execution_count": 36,
   "id": "a886081f",
   "metadata": {},
   "outputs": [],
   "source": [
    "#From array A remove All items in B"
   ]
  },
  {
   "cell_type": "code",
   "execution_count": 37,
   "id": "ba42e6a9",
   "metadata": {},
   "outputs": [],
   "source": [
    "a=np.array([1,2,3,4,5])"
   ]
  },
  {
   "cell_type": "code",
   "execution_count": 38,
   "id": "8f8da881",
   "metadata": {},
   "outputs": [],
   "source": [
    "b=np.array([5,6,7,8,9])"
   ]
  },
  {
   "cell_type": "code",
   "execution_count": 39,
   "id": "0cac742e",
   "metadata": {},
   "outputs": [],
   "source": [
    "c=np.setdiff1d(a,b)"
   ]
  },
  {
   "cell_type": "code",
   "execution_count": 40,
   "id": "fac4b373",
   "metadata": {},
   "outputs": [
    {
     "data": {
      "text/plain": [
       "array([1, 2, 3, 4])"
      ]
     },
     "execution_count": 40,
     "metadata": {},
     "output_type": "execute_result"
    }
   ],
   "source": [
    "c"
   ]
  },
  {
   "cell_type": "markdown",
   "id": "c9661cb4",
   "metadata": {},
   "source": [
    "# Question 9\n"
   ]
  },
  {
   "cell_type": "code",
   "execution_count": 41,
   "id": "7899618a",
   "metadata": {},
   "outputs": [],
   "source": [
    "#Get the position where element of A and B match"
   ]
  },
  {
   "cell_type": "code",
   "execution_count": 42,
   "id": "a2a9da74",
   "metadata": {},
   "outputs": [],
   "source": [
    "a = np.array([1,2,3,2,3,4,3,4,5,6])"
   ]
  },
  {
   "cell_type": "code",
   "execution_count": 43,
   "id": "7edd941f",
   "metadata": {},
   "outputs": [],
   "source": [
    "b = np.array([7,2,10,2,7,4,9,4,9,8])"
   ]
  },
  {
   "cell_type": "code",
   "execution_count": 44,
   "id": "e2f98d48",
   "metadata": {},
   "outputs": [],
   "source": [
    "c=np.where(np.isin(a,b))"
   ]
  },
  {
   "cell_type": "code",
   "execution_count": 45,
   "id": "5b0a72bb",
   "metadata": {},
   "outputs": [
    {
     "data": {
      "text/plain": [
       "(array([1, 3, 5, 7], dtype=int64),)"
      ]
     },
     "execution_count": 45,
     "metadata": {},
     "output_type": "execute_result"
    }
   ],
   "source": [
    "c"
   ]
  },
  {
   "cell_type": "markdown",
   "id": "4373b2f1",
   "metadata": {},
   "source": [
    "# Question 10"
   ]
  },
  {
   "cell_type": "code",
   "execution_count": 47,
   "id": "b3f80602",
   "metadata": {},
   "outputs": [],
   "source": [
    "#Swap columns 1 and 2 in the array arr."
   ]
  },
  {
   "cell_type": "code",
   "execution_count": null,
   "id": "8a098b19",
   "metadata": {},
   "outputs": [],
   "source": [
    "arr=np.arange(9).reshape(3,3)"
   ]
  },
  {
   "cell_type": "code",
   "execution_count": 48,
   "id": "96f03ba4",
   "metadata": {},
   "outputs": [
    {
     "data": {
      "text/plain": [
       "array([[0, 1, 2],\n",
       "       [3, 4, 5],\n",
       "       [6, 7, 8]])"
      ]
     },
     "execution_count": 48,
     "metadata": {},
     "output_type": "execute_result"
    }
   ],
   "source": [
    "arr"
   ]
  },
  {
   "cell_type": "code",
   "execution_count": 58,
   "id": "07d9ca25",
   "metadata": {},
   "outputs": [],
   "source": [
    "arr[:,[1,2]]=arr[:,[2,1]]"
   ]
  },
  {
   "cell_type": "code",
   "execution_count": 59,
   "id": "bd9c069e",
   "metadata": {},
   "outputs": [
    {
     "data": {
      "text/plain": [
       "array([[1, 0, 2],\n",
       "       [4, 3, 5],\n",
       "       [7, 6, 8]])"
      ]
     },
     "execution_count": 59,
     "metadata": {},
     "output_type": "execute_result"
    }
   ],
   "source": [
    "arr"
   ]
  },
  {
   "cell_type": "markdown",
   "id": "d6e90cdd",
   "metadata": {},
   "source": [
    "# Question 11"
   ]
  },
  {
   "cell_type": "code",
   "execution_count": 1,
   "id": "abfcac69",
   "metadata": {},
   "outputs": [],
   "source": [
    "# From the array a, replace all values greater than 30 to 30 and less than 10 to 10.\n"
   ]
  },
  {
   "cell_type": "code",
   "execution_count": 22,
   "id": "1f435457",
   "metadata": {},
   "outputs": [],
   "source": [
    "np.random.seed(100)"
   ]
  },
  {
   "cell_type": "code",
   "execution_count": 23,
   "id": "09b56eba",
   "metadata": {},
   "outputs": [],
   "source": [
    "a=np.random.uniform(1,50,20)"
   ]
  },
  {
   "cell_type": "code",
   "execution_count": 24,
   "id": "eb6712a6",
   "metadata": {},
   "outputs": [
    {
     "data": {
      "text/plain": [
       "array([27.62684215, 14.64009987, 21.80136195, 42.39403048,  1.23122395,\n",
       "        6.95688692, 33.86670515, 41.466785  ,  7.69862289, 29.17957314,\n",
       "       44.67477576, 11.25090398, 10.08108276,  6.31046763, 11.76517714,\n",
       "       48.95256545, 40.77247431,  9.42510962, 40.99501269, 14.42961361])"
      ]
     },
     "execution_count": 24,
     "metadata": {},
     "output_type": "execute_result"
    }
   ],
   "source": [
    "a"
   ]
  },
  {
   "cell_type": "code",
   "execution_count": 26,
   "id": "275a8bfa",
   "metadata": {},
   "outputs": [],
   "source": [
    "a[a>30]=30\n",
    "a[a<10]=10"
   ]
  },
  {
   "cell_type": "code",
   "execution_count": 27,
   "id": "acee69ef",
   "metadata": {},
   "outputs": [
    {
     "data": {
      "text/plain": [
       "array([27.62684215, 14.64009987, 21.80136195, 30.        , 10.        ,\n",
       "       10.        , 30.        , 30.        , 10.        , 29.17957314,\n",
       "       30.        , 11.25090398, 10.08108276, 10.        , 11.76517714,\n",
       "       30.        , 30.        , 10.        , 30.        , 14.42961361])"
      ]
     },
     "execution_count": 27,
     "metadata": {},
     "output_type": "execute_result"
    }
   ],
   "source": [
    "a"
   ]
  },
  {
   "cell_type": "markdown",
   "id": "9d635c67",
   "metadata": {},
   "source": [
    "# Question 12"
   ]
  },
  {
   "cell_type": "code",
   "execution_count": 28,
   "id": "3ccff244",
   "metadata": {},
   "outputs": [],
   "source": [
    "#Compute the counts of unique values row-wise.\n"
   ]
  },
  {
   "cell_type": "code",
   "execution_count": 29,
   "id": "0c9d9e7e",
   "metadata": {},
   "outputs": [],
   "source": [
    "np.random.seed(100)"
   ]
  },
  {
   "cell_type": "code",
   "execution_count": 30,
   "id": "6e465ff7",
   "metadata": {},
   "outputs": [],
   "source": [
    "arr=np.random.randint(1,11,size=(6, 10))"
   ]
  },
  {
   "cell_type": "code",
   "execution_count": 31,
   "id": "fdbc4f29",
   "metadata": {},
   "outputs": [
    {
     "data": {
      "text/plain": [
       "array([[ 9,  9,  4,  8,  8,  1,  5,  3,  6,  3],\n",
       "       [ 3,  3,  2,  1,  9,  5,  1, 10,  7,  3],\n",
       "       [ 5,  2,  6,  4,  5,  5,  4,  8,  2,  2],\n",
       "       [ 8,  8,  1,  3, 10, 10,  4,  3,  6,  9],\n",
       "       [ 2,  1,  8,  7,  3,  1,  9,  3,  6,  2],\n",
       "       [ 9,  2,  6,  5,  3,  9,  4,  6,  1, 10]])"
      ]
     },
     "execution_count": 31,
     "metadata": {},
     "output_type": "execute_result"
    }
   ],
   "source": [
    "arr"
   ]
  },
  {
   "cell_type": "code",
   "execution_count": 34,
   "id": "f5c44355",
   "metadata": {},
   "outputs": [],
   "source": [
    "unique_counts = [np.unique(row, return_counts=True)[1].tolist() for row in arr]"
   ]
  },
  {
   "cell_type": "code",
   "execution_count": 35,
   "id": "35e82e61",
   "metadata": {},
   "outputs": [
    {
     "name": "stdout",
     "output_type": "stream",
     "text": [
      "Counts of unique values row-wise: [[1, 2, 1, 1, 1, 2, 2], [2, 1, 3, 1, 1, 1, 1], [3, 2, 3, 1, 1], [1, 2, 1, 1, 2, 1, 2], [2, 2, 2, 1, 1, 1, 1], [1, 1, 1, 1, 1, 2, 2, 1]]\n"
     ]
    }
   ],
   "source": [
    "print(\"Counts of unique values row-wise:\", unique_counts)"
   ]
  },
  {
   "cell_type": "markdown",
   "id": "a165ca98",
   "metadata": {},
   "source": [
    "# Question no 13"
   ]
  },
  {
   "cell_type": "code",
   "execution_count": 36,
   "id": "ea32c6b7",
   "metadata": {},
   "outputs": [],
   "source": [
    "# Compute the one-hot encodings (dummy binary variables for each unique value in the array)"
   ]
  },
  {
   "cell_type": "code",
   "execution_count": 37,
   "id": "9653e449",
   "metadata": {},
   "outputs": [],
   "source": [
    "import pandas as pd"
   ]
  },
  {
   "cell_type": "code",
   "execution_count": 38,
   "id": "2b74a80a",
   "metadata": {},
   "outputs": [],
   "source": [
    "np.random.seed(100)"
   ]
  },
  {
   "cell_type": "code",
   "execution_count": 39,
   "id": "250403aa",
   "metadata": {},
   "outputs": [],
   "source": [
    "arr=np.random.randint(0,4,size=10)"
   ]
  },
  {
   "cell_type": "code",
   "execution_count": 40,
   "id": "130866f2",
   "metadata": {},
   "outputs": [],
   "source": [
    "hot_coding=pd.get_dummies(arr)"
   ]
  },
  {
   "cell_type": "code",
   "execution_count": 41,
   "id": "8a6e28fc",
   "metadata": {},
   "outputs": [
    {
     "name": "stdout",
     "output_type": "stream",
     "text": [
      "Array: [0 0 3 3 3 3 0 2 2 0]\n"
     ]
    }
   ],
   "source": [
    "print(\"Array:\", arr)"
   ]
  },
  {
   "cell_type": "code",
   "execution_count": 43,
   "id": "d1e52f35",
   "metadata": {},
   "outputs": [
    {
     "name": "stdout",
     "output_type": "stream",
     "text": [
      "hot_coding:\n"
     ]
    }
   ],
   "source": [
    "print(\"hot_coding:\")"
   ]
  },
  {
   "cell_type": "code",
   "execution_count": 44,
   "id": "a60a7b79",
   "metadata": {},
   "outputs": [
    {
     "name": "stdout",
     "output_type": "stream",
     "text": [
      "   0  2  3\n",
      "0  1  0  0\n",
      "1  1  0  0\n",
      "2  0  0  1\n",
      "3  0  0  1\n",
      "4  0  0  1\n",
      "5  0  0  1\n",
      "6  1  0  0\n",
      "7  0  1  0\n",
      "8  0  1  0\n",
      "9  1  0  0\n"
     ]
    }
   ],
   "source": [
    "print(hot_coding)"
   ]
  },
  {
   "cell_type": "markdown",
   "id": "47ac949f",
   "metadata": {},
   "source": [
    "# Question 14"
   ]
  },
  {
   "cell_type": "code",
   "execution_count": 45,
   "id": "f061cc81",
   "metadata": {},
   "outputs": [],
   "source": [
    "# Create the ranks for the given numeric array a."
   ]
  },
  {
   "cell_type": "code",
   "execution_count": 49,
   "id": "b8f17aa2",
   "metadata": {},
   "outputs": [],
   "source": [
    "np.random.seed(10)"
   ]
  },
  {
   "cell_type": "code",
   "execution_count": 50,
   "id": "56741082",
   "metadata": {},
   "outputs": [],
   "source": [
    "a=np.random.randint(20, size=10)"
   ]
  },
  {
   "cell_type": "code",
   "execution_count": 51,
   "id": "33f0d4e5",
   "metadata": {},
   "outputs": [
    {
     "data": {
      "text/plain": [
       "array([ 9,  4, 15,  0, 17, 16, 17,  8,  9,  0])"
      ]
     },
     "execution_count": 51,
     "metadata": {},
     "output_type": "execute_result"
    }
   ],
   "source": [
    "a"
   ]
  },
  {
   "cell_type": "code",
   "execution_count": 52,
   "id": "57e71289",
   "metadata": {},
   "outputs": [],
   "source": [
    "ranks = np.argsort(np.argsort(-a)) + 1"
   ]
  },
  {
   "cell_type": "code",
   "execution_count": 53,
   "id": "3eb3ead9",
   "metadata": {},
   "outputs": [
    {
     "name": "stdout",
     "output_type": "stream",
     "text": [
      "Array: [ 9  4 15  0 17 16 17  8  9  0]\n",
      "Ranks: [ 5  8  4  9  1  3  2  7  6 10]\n"
     ]
    }
   ],
   "source": [
    "print(\"Array:\", a)\n",
    "print(\"Ranks:\", ranks)"
   ]
  },
  {
   "cell_type": "markdown",
   "id": "5e557729",
   "metadata": {},
   "source": [
    "# Question 15"
   ]
  },
  {
   "cell_type": "code",
   "execution_count": 54,
   "id": "3e44cc36",
   "metadata": {},
   "outputs": [],
   "source": [
    "#Create a rank array of the same shape as a given numeric array a."
   ]
  },
  {
   "cell_type": "code",
   "execution_count": 55,
   "id": "242df5d1",
   "metadata": {},
   "outputs": [
    {
     "name": "stdout",
     "output_type": "stream",
     "text": [
      "[[ 9  4 15  0 17]\n",
      " [16 17  8  9  0]]\n"
     ]
    }
   ],
   "source": [
    "np.random.seed(10)\n",
    "a = np.random.randint(20, size=[2,5])\n",
    "print(a)"
   ]
  },
  {
   "cell_type": "code",
   "execution_count": 56,
   "id": "51996746",
   "metadata": {},
   "outputs": [],
   "source": [
    "ranks=np.argsort(np.argsort(-a))+1"
   ]
  },
  {
   "cell_type": "code",
   "execution_count": 57,
   "id": "f97b9079",
   "metadata": {},
   "outputs": [
    {
     "name": "stdout",
     "output_type": "stream",
     "text": [
      "Array: [[ 9  4 15  0 17]\n",
      " [16 17  8  9  0]]\n",
      "Ranks: [[3 4 2 5 1]\n",
      " [2 1 4 3 5]]\n"
     ]
    }
   ],
   "source": [
    "print(\"Array:\", a)\n",
    "print(\"Ranks:\", ranks)"
   ]
  },
  {
   "cell_type": "markdown",
   "id": "d697aa14",
   "metadata": {},
   "source": [
    "# Question 16"
   ]
  },
  {
   "cell_type": "code",
   "execution_count": 58,
   "id": "24c90a8e",
   "metadata": {},
   "outputs": [],
   "source": [
    "# Compute the min-by-max for each row for given 2d numpy array"
   ]
  },
  {
   "cell_type": "code",
   "execution_count": 59,
   "id": "1270a0f9",
   "metadata": {},
   "outputs": [
    {
     "data": {
      "text/plain": [
       "array([[9, 9, 4],\n",
       "       [8, 8, 1],\n",
       "       [5, 3, 6],\n",
       "       [3, 3, 3],\n",
       "       [2, 1, 9]])"
      ]
     },
     "execution_count": 59,
     "metadata": {},
     "output_type": "execute_result"
    }
   ],
   "source": [
    "np.random.seed(100)\n",
    "a = np.random.randint(1,10, [5,3])\n",
    "a"
   ]
  },
  {
   "cell_type": "code",
   "execution_count": 60,
   "id": "06e91d83",
   "metadata": {},
   "outputs": [
    {
     "name": "stdout",
     "output_type": "stream",
     "text": [
      "Array:\n",
      " [[9 9 4]\n",
      " [8 8 1]\n",
      " [5 3 6]\n",
      " [3 3 3]\n",
      " [2 1 9]]\n",
      "Min-by-max for each row: [0.44444444 0.125      0.5        1.         0.11111111]\n"
     ]
    }
   ],
   "source": [
    "min_by_max = np.apply_along_axis(lambda x: np.amin(x)/np.amax(x), axis=1, arr=a)\n",
    "\n",
    "print(\"Array:\\n\", a)\n",
    "print(\"Min-by-max for each row:\", min_by_max)"
   ]
  },
  {
   "cell_type": "markdown",
   "id": "5970e0e5",
   "metadata": {},
   "source": [
    "# Question 17"
   ]
  },
  {
   "cell_type": "code",
   "execution_count": 61,
   "id": "e9962398",
   "metadata": {},
   "outputs": [],
   "source": [
    "# Find the duplicate entries (2nd occurrence onwards) in the given numpy array and mark them as True. First time occurrences should be False\n"
   ]
  },
  {
   "cell_type": "code",
   "execution_count": 62,
   "id": "7aec5788",
   "metadata": {},
   "outputs": [
    {
     "name": "stdout",
     "output_type": "stream",
     "text": [
      "Array:  [0 0 3 0 2 4 2 2 2 2]\n"
     ]
    }
   ],
   "source": [
    "np.random.seed(100)\n",
    "a = np.random.randint(0, 5, 10)\n",
    "print('Array: ', a)"
   ]
  },
  {
   "cell_type": "code",
   "execution_count": 63,
   "id": "ffc87770",
   "metadata": {},
   "outputs": [
    {
     "name": "stdout",
     "output_type": "stream",
     "text": [
      "Array:\n",
      " [0 0 3 0 2 4 2 2 2 2]\n",
      "Boolean mask of duplicates:\n",
      " [ True  True False  True  True False  True  True  True  True]\n",
      "Boolean mask of first occurrences:\n",
      " [ True  True  True  True  True  True  True  True  True  True]\n"
     ]
    },
    {
     "name": "stderr",
     "output_type": "stream",
     "text": [
      "C:\\Users\\Leo\\AppData\\Local\\Temp/ipykernel_2916/4259806153.py:6: DeprecationWarning: elementwise comparison failed; this will raise an error in the future.\n",
      "  first_occurrence_mask[np.where(duplicate_mask)[0]] = (indices[np.where(duplicate_mask)[0]] == np.arange(len(indices)))\n"
     ]
    }
   ],
   "source": [
    "_, indices, counts = np.unique(a, return_inverse=True, return_counts=True)\n",
    "duplicate_mask = counts[indices] > 1\n",
    "\n",
    "# Mark first occurrences as False\n",
    "first_occurrence_mask = np.zeros_like(a, dtype=bool)\n",
    "first_occurrence_mask[np.where(duplicate_mask)[0]] = (indices[np.where(duplicate_mask)[0]] == np.arange(len(indices)))\n",
    "\n",
    "# Print the original array and the Boolean mask\n",
    "print(\"Array:\\n\", a)\n",
    "print(\"Boolean mask of duplicates:\\n\", duplicate_mask)\n",
    "print(\"Boolean mask of first occurrences:\\n\", ~first_occurrence_mask)"
   ]
  },
  {
   "cell_type": "markdown",
   "id": "dbae5f51",
   "metadata": {},
   "source": [
    "# Question 18"
   ]
  },
  {
   "cell_type": "code",
   "execution_count": 72,
   "id": "a47cb101",
   "metadata": {},
   "outputs": [],
   "source": [
    "# Drop all nan values from a 1D numpy array"
   ]
  },
  {
   "cell_type": "code",
   "execution_count": 73,
   "id": "872a23b1",
   "metadata": {},
   "outputs": [],
   "source": [
    "a=np.array([1,2,3,np.nan,5,6,7,np.nan])"
   ]
  },
  {
   "cell_type": "code",
   "execution_count": 74,
   "id": "314336e6",
   "metadata": {},
   "outputs": [],
   "source": [
    "a = a[~np.isnan(a)]"
   ]
  },
  {
   "cell_type": "code",
   "execution_count": 75,
   "id": "22163d96",
   "metadata": {},
   "outputs": [
    {
     "data": {
      "text/plain": [
       "array([1., 2., 3., 5., 6., 7.])"
      ]
     },
     "execution_count": 75,
     "metadata": {},
     "output_type": "execute_result"
    }
   ],
   "source": [
    "a"
   ]
  },
  {
   "cell_type": "markdown",
   "id": "141639b7",
   "metadata": {},
   "source": [
    "# Question 19"
   ]
  },
  {
   "cell_type": "code",
   "execution_count": 76,
   "id": "64c4e8d2",
   "metadata": {},
   "outputs": [],
   "source": [
    "#Find all the peaks in a 1D numpy array a. Peaks are points surrounded by smaller values on both sides.\n",
    "\n",
    "\n",
    "\n",
    "a = np.array([1, 3, 7, 1, 2, 6, 0, 1])"
   ]
  },
  {
   "cell_type": "code",
   "execution_count": 77,
   "id": "9ceb1f19",
   "metadata": {},
   "outputs": [],
   "source": [
    "peaks = np.where((a[1:-1] > a[:-2]) & (a[1:-1] > a[2:]))[0] + 1"
   ]
  },
  {
   "cell_type": "code",
   "execution_count": 78,
   "id": "2033bb27",
   "metadata": {},
   "outputs": [
    {
     "data": {
      "text/plain": [
       "array([2, 5], dtype=int64)"
      ]
     },
     "execution_count": 78,
     "metadata": {},
     "output_type": "execute_result"
    }
   ],
   "source": [
    "peaks"
   ]
  },
  {
   "cell_type": "markdown",
   "id": "04ab5d8f",
   "metadata": {},
   "source": [
    "# Question 20"
   ]
  },
  {
   "cell_type": "code",
   "execution_count": 80,
   "id": "9374f3d2",
   "metadata": {},
   "outputs": [],
   "source": [
    "# subtract the 1d array b_1d from the 2d array a_2d, such that each item of b_1d subtracts from respective row of a_2d."
   ]
  },
  {
   "cell_type": "code",
   "execution_count": 82,
   "id": "78d7a352",
   "metadata": {},
   "outputs": [],
   "source": [
    "a_2d = np.array([[3,3,3],[4,4,4],[5,5,5]])\n"
   ]
  },
  {
   "cell_type": "code",
   "execution_count": 86,
   "id": "fcbfb5a7",
   "metadata": {},
   "outputs": [
    {
     "data": {
      "text/plain": [
       "array([[3, 3, 3],\n",
       "       [4, 4, 4],\n",
       "       [5, 5, 5]])"
      ]
     },
     "execution_count": 86,
     "metadata": {},
     "output_type": "execute_result"
    }
   ],
   "source": [
    "a_2d"
   ]
  },
  {
   "cell_type": "code",
   "execution_count": 88,
   "id": "0ce3c7f3",
   "metadata": {},
   "outputs": [],
   "source": [
    "b_1d = np.array([1,1,1])\n"
   ]
  },
  {
   "cell_type": "code",
   "execution_count": 89,
   "id": "ec53c16b",
   "metadata": {},
   "outputs": [
    {
     "data": {
      "text/plain": [
       "array([1, 1, 1])"
      ]
     },
     "execution_count": 89,
     "metadata": {},
     "output_type": "execute_result"
    }
   ],
   "source": [
    "b_1d"
   ]
  },
  {
   "cell_type": "code",
   "execution_count": 90,
   "id": "7bb04013",
   "metadata": {},
   "outputs": [
    {
     "data": {
      "text/plain": [
       "array([[2, 2, 2],\n",
       "       [3, 3, 3],\n",
       "       [4, 4, 4]])"
      ]
     },
     "execution_count": 90,
     "metadata": {},
     "output_type": "execute_result"
    }
   ],
   "source": [
    "a_2d - b_1d[:, np.newaxis]"
   ]
  },
  {
   "cell_type": "markdown",
   "id": "779cecd4",
   "metadata": {},
   "source": [
    "# Question 21"
   ]
  },
  {
   "cell_type": "code",
   "execution_count": 91,
   "id": "15abc23f",
   "metadata": {},
   "outputs": [],
   "source": [
    "# Find the index of 5th repetition of number 1 in x.\n"
   ]
  },
  {
   "cell_type": "code",
   "execution_count": 92,
   "id": "a09406db",
   "metadata": {},
   "outputs": [],
   "source": [
    "x = np.array([1, 2, 1, 1, 3, 4, 3, 1, 1, 2, 1, 1, 2])"
   ]
  },
  {
   "cell_type": "code",
   "execution_count": 93,
   "id": "b5cb842b",
   "metadata": {},
   "outputs": [
    {
     "data": {
      "text/plain": [
       "1"
      ]
     },
     "execution_count": 93,
     "metadata": {},
     "output_type": "execute_result"
    }
   ],
   "source": [
    "x[8]"
   ]
  },
  {
   "cell_type": "markdown",
   "id": "fc015be1",
   "metadata": {},
   "source": [
    "# Question 22"
   ]
  },
  {
   "cell_type": "code",
   "execution_count": 94,
   "id": "ddae8fa5",
   "metadata": {},
   "outputs": [],
   "source": [
    "#Create a numpy array of length 10, starting from 5 and has a step of 3 between consecutive numbers"
   ]
  },
  {
   "cell_type": "code",
   "execution_count": 95,
   "id": "7ae65c18",
   "metadata": {},
   "outputs": [
    {
     "name": "stdout",
     "output_type": "stream",
     "text": [
      "[ 5  8 11 14 17 20 23 26 29 32]\n"
     ]
    }
   ],
   "source": [
    "a = np.arange(5, 5 + 10*3, 3)\n",
    "print(a)"
   ]
  },
  {
   "cell_type": "markdown",
   "id": "1ebb1966",
   "metadata": {},
   "source": [
    "# Question 23"
   ]
  },
  {
   "cell_type": "code",
   "execution_count": 96,
   "id": "1017c78e",
   "metadata": {},
   "outputs": [],
   "source": [
    "#From the given 1d array arr, generate a 2d matrix using strides, with a window length of 4 and strides of 2, like [[0,1,2,3], [2,3,4,5], [4,5,6,7]..]\n"
   ]
  },
  {
   "cell_type": "code",
   "execution_count": 97,
   "id": "6f1d3075",
   "metadata": {},
   "outputs": [
    {
     "name": "stdout",
     "output_type": "stream",
     "text": [
      "[[0 0 3 3]\n",
      " [3 3 3 3]\n",
      " [3 3 0 2]\n",
      " [0 2 2 0]]\n"
     ]
    }
   ],
   "source": [
    "window_len = 4\n",
    "stride = 2\n",
    "\n",
    "# calculate the number of windows that fit into the array\n",
    "n_windows = (arr.shape[0] - window_len) // stride + 1\n",
    "\n",
    "# create a new array with the desired shape and strides\n",
    "arr_strided = np.lib.stride_tricks.as_strided(arr,shape=(n_windows, window_len),strides=(arr.strides[0]*stride, arr.strides[0]))\n",
    "                                              \n",
    "                                              \n",
    "\n",
    "# print the resulting matrix\n",
    "print(arr_strided)"
   ]
  },
  {
   "cell_type": "code",
   "execution_count": null,
   "id": "6867975b",
   "metadata": {},
   "outputs": [],
   "source": []
  }
 ],
 "metadata": {
  "kernelspec": {
   "display_name": "Python 3 (ipykernel)",
   "language": "python",
   "name": "python3"
  },
  "language_info": {
   "codemirror_mode": {
    "name": "ipython",
    "version": 3
   },
   "file_extension": ".py",
   "mimetype": "text/x-python",
   "name": "python",
   "nbconvert_exporter": "python",
   "pygments_lexer": "ipython3",
   "version": "3.9.7"
  }
 },
 "nbformat": 4,
 "nbformat_minor": 5
}
